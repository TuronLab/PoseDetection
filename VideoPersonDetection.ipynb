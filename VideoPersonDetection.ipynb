{
 "cells": [
  {
   "cell_type": "code",
   "execution_count": 1,
   "metadata": {},
   "outputs": [],
   "source": [
    "import cv2\n",
    "import time\n",
    "import numpy as np\n",
    "import matplotlib.pyplot as plt\n",
    "%matplotlib inline"
   ]
  },
  {
   "cell_type": "markdown",
   "metadata": {},
   "source": [
    "# YOLOv3"
   ]
  },
  {
   "cell_type": "code",
   "execution_count": 2,
   "metadata": {},
   "outputs": [],
   "source": [
    "from math import floor\n",
    "from os import getcwd\n",
    "\n",
    "path = getcwd().replace(\"OpenPose\",\"\")\n",
    "\n",
    "classes = None\n",
    "with open(path+'coco.names', 'r') as f:\n",
    "    classes = [line.strip() for line in f.readlines()]\n",
    "    \n",
    "yoloNet = cv2.dnn.readNet(path+'yolov3-spp.weights', path+'yolov3-spp.cfg')"
   ]
  },
  {
   "cell_type": "code",
   "execution_count": 3,
   "metadata": {},
   "outputs": [],
   "source": [
    "def getBoxes(outs):\n",
    "     # Get specs of the box where an object has been detected\n",
    "        \n",
    "    class_ids = [] # Indicates the type of object that has been found (0: person)\n",
    "    confidences = [] # The score that each class has had\n",
    "    boxes = [] # Boxes coordinates\n",
    "    \n",
    "    #create bounding box \n",
    "\n",
    "    for out in outs:\n",
    "        for detection in out:\n",
    "            scores = detection[5:]\n",
    "            class_id = np.argmax(scores)\n",
    "            confidence = scores[class_id]\n",
    "            if confidence > 0.1:\n",
    "                center_x = int(detection[0] * frameWidth)\n",
    "                center_y = int(detection[1] * frameHeight)\n",
    "                w = int(detection[2] * frameWidth)\n",
    "                h = int(detection[3] * frameHeight)\n",
    "                x = center_x - w / 2\n",
    "                y = center_y - h / 2\n",
    "                class_ids.append(class_id)\n",
    "                confidences.append(float(confidence))\n",
    "                boxes.append([x, y, w, h]) #(xUpLeft, yUpLeft, widthObject, heigthObject)\n",
    "    return class_ids, confidences, boxes\n",
    "    \n",
    "def getPeople(indices, class_ids, confidences, boxes, showBox = True):\n",
    "    # Plots rectangle of every person detected if showBox = True, and\n",
    "    # returns the area of each person detected\n",
    "    \n",
    "    area = [] # Rectangle Area\n",
    "    personBoxes = []\n",
    "\n",
    "    # Check if is people detection\n",
    "    for i in indices:\n",
    "        i = i[0]\n",
    "        box = boxes[i]\n",
    "        if class_ids[i]==0:\n",
    "            area.append(box[2]*box[3]) # width*height\n",
    "            personBoxes.append(box)\n",
    "            label = str(classes[class_ids[i]])\n",
    "            if showBox:\n",
    "                cv2.rectangle(frame, (round(box[0]),round(box[1])), (round(box[0]+box[2]),round(box[1]+box[3])), (0, 0, 255), 2)\n",
    "                cv2.putText(frame, label, (round(box[0])-10,round(box[1])-10), cv2.FONT_HERSHEY_SIMPLEX, 0.5, (0, 0, 255), 2)\n",
    "    return area, personBoxes"
   ]
  },
  {
   "cell_type": "code",
   "execution_count": 4,
   "metadata": {},
   "outputs": [
    {
     "name": "stdout",
     "output_type": "stream",
     "text": [
      "Save model? 0: no, Other: Name of file. 0\n"
     ]
    }
   ],
   "source": [
    "name = \"VideoSkier\"\n",
    "\n",
    "cap = cv2.VideoCapture(\"Dataset\\\\\"+name+\".mp4\")\n",
    "\n",
    "# Get fps from video\n",
    "fps = cap.get(cv2.CAP_PROP_FPS)\n",
    "\n",
    "if (cap.isOpened()== False):\n",
    "    print(\"Error opening video stream or file\")\n",
    "\n",
    "ret, frame = cap.read()\n",
    "\n",
    "# Get frame shape\n",
    "frameWidth = frame.shape[1]\n",
    "frameHeight = frame.shape[0]\n",
    "\n",
    "# Confidence margin to cut biggest person detected\n",
    "mConf = 0.35\n",
    "\n",
    "fourcc = cv2.VideoWriter_fourcc(*'MP4V')\n",
    "\n",
    "save = input(\"Save model? 0: no, Other: Name of file. \")\n",
    "\n",
    "if save != \"0\":\n",
    "    out = cv2.VideoWriter('Output\\\\'+'BoxSk'+save+'.mp4', fourcc, fps, (frameWidth, frameHeight))\n",
    "\n",
    "while(cap.isOpened()):\n",
    "    ret, frame = cap.read()\n",
    "\n",
    "    if ret == True:\n",
    "        \n",
    "        yoloNet.setInput(cv2.dnn.blobFromImage(frame, 0.00392, (416,416), (0,0,0), True, crop=False))\n",
    "\n",
    "        layer_names = yoloNet.getLayerNames()\n",
    "        output_layers = [layer_names[i[0] - 1] for i in yoloNet.getUnconnectedOutLayers()]\n",
    "        outs = yoloNet.forward(output_layers)\n",
    "\n",
    "        class_ids, confidences, boxes = getBoxes(outs)\n",
    "\n",
    "        indices = cv2.dnn.NMSBoxes(boxes, confidences, 0.1, 0.1)\n",
    "        \n",
    "        area, personBoxes = getPeople(indices, class_ids, confidences, boxes, showBox = True)\n",
    "        \n",
    "        if save != \"0\": out.write(frame)\n",
    "        \n",
    "        if area != []:\n",
    "            idx = area.index(max(area))\n",
    "            box = personBoxes[idx]\n",
    "            \n",
    "            posBiggest = [max(floor(box[0]-(mConf*box[2])),0), min(floor((box[0]+box[2])+(mConf*box[2])), frameWidth-1),\n",
    "                        max(floor(box[1]-(mConf*box[3])),0), min(floor((box[1]+box[3])+(mConf*box[3])), frameHeight-1)]\n",
    "\n",
    "            cv2.imshow('Frame', frame[posBiggest[2]:posBiggest[3],posBiggest[0]:posBiggest[1]])\n",
    "        else:\n",
    "            cv2.imshow('Frame', frame)\n",
    "\n",
    "        # Press Q on keyboard to  exit\n",
    "        if cv2.waitKey(1) & 0xFF == ord('q'):\n",
    "            break\n",
    "\n",
    "    else:\n",
    "        break\n",
    "        \n",
    "cap.release()\n",
    "if save != \"0\": out.release()\n",
    "cv2.destroyAllWindows()"
   ]
  },
  {
   "cell_type": "code",
   "execution_count": null,
   "metadata": {},
   "outputs": [],
   "source": []
  }
 ],
 "metadata": {
  "kernelspec": {
   "display_name": "Python 3",
   "language": "python",
   "name": "python3"
  },
  "language_info": {
   "codemirror_mode": {
    "name": "ipython",
    "version": 3
   },
   "file_extension": ".py",
   "mimetype": "text/x-python",
   "name": "python",
   "nbconvert_exporter": "python",
   "pygments_lexer": "ipython3",
   "version": "3.7.6"
  }
 },
 "nbformat": 4,
 "nbformat_minor": 2
}
